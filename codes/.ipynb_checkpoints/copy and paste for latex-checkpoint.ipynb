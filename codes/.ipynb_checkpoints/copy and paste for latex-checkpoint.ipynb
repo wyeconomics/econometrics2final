{
 "cells": [
  {
   "cell_type": "code",
   "execution_count": 1,
   "id": "3166749c-c11d-4e48-9119-ea43d75be03d",
   "metadata": {},
   "outputs": [],
   "source": [
    "import pandas as pd\n",
    "from pandas import Series, DataFrame"
   ]
  },
  {
   "cell_type": "code",
   "execution_count": 12,
   "id": "b777c725-9827-4bee-b3e8-22ac746a95d1",
   "metadata": {},
   "outputs": [],
   "source": [
    "data = pd.read_csv('../data/subway_1fin.csv')"
   ]
  },
  {
   "cell_type": "code",
   "execution_count": 13,
   "id": "8853c0fa-8715-4339-a5b8-6c0df99c59ec",
   "metadata": {},
   "outputs": [],
   "source": [
    "df1 = data[(data['dupl'] != 1) & (data['location'].str.contains(r'구$', na=False))]"
   ]
  },
  {
   "cell_type": "code",
   "execution_count": 21,
   "id": "ea0372e2-bd27-40e3-8ae5-d36bc26be8a3",
   "metadata": {},
   "outputs": [],
   "source": [
    "with open(\"../doc/latex_figures.txt\", \"w\") as file:\n",
    "    for name in data['name']:\n",
    "        file.write(f\"\"\"\n",
    "    \\\\begin{{figure}}\n",
    "    \\\\centering\n",
    "    \\\\includegraphics[width=0.5\\\\linewidth]{\"\".join(['figures/radius_', name,'역.png'])}\n",
    "\\\\end{{figure}}\"\"\")"
   ]
  },
  {
   "cell_type": "code",
   "execution_count": 17,
   "id": "0fc05cc4-f058-4d79-86a5-86648c222426",
   "metadata": {},
   "outputs": [
    {
     "ename": "NameError",
     "evalue": "name 'concat' is not defined",
     "output_type": "error",
     "traceback": [
      "\u001b[0;31m---------------------------------------------------------------------------\u001b[0m",
      "\u001b[0;31mNameError\u001b[0m                                 Traceback (most recent call last)",
      "Cell \u001b[0;32mIn[17], line 1\u001b[0m\n\u001b[0;32m----> 1\u001b[0m concat(\u001b[38;5;124m'\u001b[39m\u001b[38;5;124mdd\u001b[39m\u001b[38;5;124m'\u001b[39m, \u001b[38;5;124m'\u001b[39m\u001b[38;5;124m2\u001b[39m\u001b[38;5;124m'\u001b[39m)\n",
      "\u001b[0;31mNameError\u001b[0m: name 'concat' is not defined"
     ]
    }
   ],
   "source": []
  }
 ],
 "metadata": {
  "kernelspec": {
   "display_name": "Python 3 (ipykernel)",
   "language": "python",
   "name": "python3"
  },
  "language_info": {
   "codemirror_mode": {
    "name": "ipython",
    "version": 3
   },
   "file_extension": ".py",
   "mimetype": "text/x-python",
   "name": "python",
   "nbconvert_exporter": "python",
   "pygments_lexer": "ipython3",
   "version": "3.12.4"
  }
 },
 "nbformat": 4,
 "nbformat_minor": 5
}
