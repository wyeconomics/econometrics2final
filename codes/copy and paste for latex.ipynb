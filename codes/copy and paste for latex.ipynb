{
 "cells": [
  {
   "cell_type": "code",
   "execution_count": 1,
   "id": "3166749c-c11d-4e48-9119-ea43d75be03d",
   "metadata": {},
   "outputs": [],
   "source": [
    "import pandas as pd\n",
    "from pandas import Series, DataFrame"
   ]
  },
  {
   "cell_type": "code",
   "execution_count": 2,
   "id": "b777c725-9827-4bee-b3e8-22ac746a95d1",
   "metadata": {},
   "outputs": [],
   "source": [
    "data = pd.read_csv('../data/subway_1fin.csv')"
   ]
  },
  {
   "cell_type": "code",
   "execution_count": 3,
   "id": "8853c0fa-8715-4339-a5b8-6c0df99c59ec",
   "metadata": {},
   "outputs": [],
   "source": [
    "df1 = data[(data['dupl'] != 1) & (data['location'].str.contains(r'구$', na=False))]"
   ]
  },
  {
   "cell_type": "code",
   "execution_count": 12,
   "id": "ea0372e2-bd27-40e3-8ae5-d36bc26be8a3",
   "metadata": {},
   "outputs": [],
   "source": [
    "with open(\"../doc/latex_figures.txt\", \"w\") as file:\n",
    "    for name in data['name']:\n",
    "        file.write(f\"\"\"\n",
    "    \\\\begin{{figure}}\n",
    "    \\\\centering\n",
    "    \\\\includegraphics[width=0.5\\\\linewidth]{\"\".join(['{figures/radius(', name,'역).png}'])}\n",
    "    {\"\".join(['\\\\caption*{',name,'}'])}\n",
    "\\\\end{{figure}}\"\"\")"
   ]
  },
  {
   "cell_type": "code",
   "execution_count": 13,
   "id": "0fc05cc4-f058-4d79-86a5-86648c222426",
   "metadata": {},
   "outputs": [],
   "source": [
    "with open(\"../doc/latex_figures(texstudio).txt\", \"w\") as file:\n",
    "    for name in data['name']:\n",
    "        file.write(f\"\"\"\n",
    "    \\\\begin{{figure}}\n",
    "    \\\\centering\n",
    "    \\\\includegraphics[width=0.5\\\\linewidth]{\"\".join(['{../figures/radius(', name,'역).png}'])}\n",
    "    {\"\".join(['\\\\caption*{',name,'}'])}\n",
    "\\\\end{{figure}}\"\"\")"
   ]
  },
  {
   "cell_type": "code",
   "execution_count": 17,
   "id": "0904c6e7-3913-45f9-afdc-36a8de11c46d",
   "metadata": {},
   "outputs": [
    {
     "name": "stdout",
     "output_type": "stream",
     "text": [
      "PDF saved as output.pdf\n"
     ]
    }
   ],
   "source": [
    "from glob import glob\n",
    "from reportlab.pdfgen import canvas\n",
    "from reportlab.lib.pagesizes import letter\n",
    "\n",
    "\n",
    "output = \"output.pdf\"\n",
    "c = canvas.Canvas(output, pagesize=letter)\n",
    "\n",
    "images = glob(\"../figures/*.png\")\n",
    "width, height = letter\n",
    "\n",
    "for img in images:\n",
    "    c.drawImage(img, 0, 0, width, height, preserveAspectRatio=True)\n",
    "    c.showPage()\n",
    "\n",
    "c.save()\n",
    "print(f\"PDF saved as {output}\")"
   ]
  },
  {
   "cell_type": "code",
   "execution_count": null,
   "id": "254c087f-9452-4e8d-9186-b1993c0389dd",
   "metadata": {},
   "outputs": [],
   "source": []
  }
 ],
 "metadata": {
  "kernelspec": {
   "display_name": "Python 3 (ipykernel)",
   "language": "python",
   "name": "python3"
  },
  "language_info": {
   "codemirror_mode": {
    "name": "ipython",
    "version": 3
   },
   "file_extension": ".py",
   "mimetype": "text/x-python",
   "name": "python",
   "nbconvert_exporter": "python",
   "pygments_lexer": "ipython3",
   "version": "3.12.4"
  }
 },
 "nbformat": 4,
 "nbformat_minor": 5
}
